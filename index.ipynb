{
 "cells": [
  {
   "cell_type": "code",
   "execution_count": null,
   "metadata": {},
   "outputs": [],
   "source": [
    "#hide\n",
    "from your_lib.core import *"
   ]
  },
  {
   "cell_type": "markdown",
   "metadata": {},
   "source": [
    "# Jetson Nano Haiku bot\n",
    "\n",
    "> Haiku bot for Jetson Nano, using GPT 2"
   ]
  },
  {
   "cell_type": "markdown",
   "metadata": {},
   "source": [
    "This file will become your README and also the index of your documentation.\n",
    "\n",
    "- Currently using GPT2 pytorch engine (medium size)\n",
    "- Using syllapy to count syllables (https://github.com/mholtzscher/syllapy.git)\n",
    "- Using gpt-2-Pytorch to generate text (https://github.com/graykode/gpt-2-Pytorch.git)\n",
    "\n",
    "Todo:\n",
    "\n",
    "- Implement https://github.com/huggingface/transformers\n",
    "- Implement Uber / PPLM\n",
    "- Refine syllable count"
   ]
  },
  {
   "cell_type": "markdown",
   "metadata": {},
   "source": [
    "## Install"
   ]
  },
  {
   "cell_type": "markdown",
   "metadata": {},
   "source": [
    "Requirements:\n",
    "using python 3.6.9\n",
    "torch (using NVIDIA Jetson version for Python 3.6)\n",
    "GPT2-to-pytorch (in this project copied into folder named GPT2)\n",
    "numpy\n",
    "\n",
    "pip install:\n",
    "syllapy\n",
    "tqdm\n",
    "regex\n",
    "\n",
    "From PPLM:\n",
    "nltk\n",
    "colorama\n",
    "transformers (sentencepiece does not work - build from source per https://www.kaggle.com/sunhwan/google-sentencepiece, omitting conda instructions as working in virtualenv in jetson nano)\n",
    "torchtext\n",
    "\n",
    "`pip install your_project_name`"
   ]
  },
  {
   "cell_type": "markdown",
   "metadata": {},
   "source": [
    "## How to use"
   ]
  },
  {
   "cell_type": "markdown",
   "metadata": {},
   "source": [
    "Fill me in please! Don't forget code examples:"
   ]
  },
  {
   "cell_type": "code",
   "execution_count": null,
   "metadata": {},
   "outputs": [
    {
     "data": {
      "text/plain": [
       "2"
      ]
     },
     "execution_count": null,
     "metadata": {},
     "output_type": "execute_result"
    }
   ],
   "source": [
    "1+1"
   ]
  },
  {
   "cell_type": "code",
   "execution_count": null,
   "metadata": {},
   "outputs": [],
   "source": []
  }
 ],
 "metadata": {
  "kernelspec": {
   "display_name": "Python 3",
   "language": "python",
   "name": "python3"
  },
  "language_info": {
   "codemirror_mode": {
    "name": "ipython",
    "version": 3
   },
   "file_extension": ".py",
   "mimetype": "text/x-python",
   "name": "python",
   "nbconvert_exporter": "python",
   "pygments_lexer": "ipython3",
   "version": "3.6.9"
  }
 },
 "nbformat": 4,
 "nbformat_minor": 2
}
